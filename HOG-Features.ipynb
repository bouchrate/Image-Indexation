{
 "cells": [
  {
   "cell_type": "code",
   "execution_count": 1,
   "id": "d4ac0d0e-f9a0-4065-a6b5-26830d0cc5f9",
   "metadata": {},
   "outputs": [],
   "source": [
    "import numpy as np\n",
    "from skimage import io, color, feature\n",
    "import os"
   ]
  },
  {
   "cell_type": "code",
   "execution_count": 2,
   "id": "0edc7045-4c3e-4a01-84e0-0d8cd1db10ee",
   "metadata": {},
   "outputs": [],
   "source": [
    "def compute_hog(image):\n",
    "    # Convert the image to grayscale\n",
    "    gray_image = color.rgb2gray(image)\n",
    "    \n",
    "    # Compute HOG features\n",
    "    hog_features, hog_image = feature.hog(gray_image,orientations=9, pixels_per_cell=(8,8),cells_per_block=(2, 2), transform_sqrt=True, visualize=True)\n",
    "    \n",
    "    return hog_features"
   ]
  },
  {
   "cell_type": "code",
   "execution_count": 3,
   "id": "6dd531b1-9405-43ce-88b7-d01f1cda2ffb",
   "metadata": {},
   "outputs": [
    {
     "name": "stdout",
     "output_type": "stream",
     "text": [
      "[0.         0.         0.         ... 0.37574117 0.30231573 0.02313982]\n",
      "[0.07105758 0.03197979 0.         ... 0.03199543 0.         0.        ]\n",
      "[0.10338535 0.13741483 0.03195637 ... 0.03710446 0.03626767 0.08881326]\n",
      "[0.13481956 0.         0.09538191 ... 0.04309594 0.         0.3111179 ]\n",
      "[0.2513831  0.23306467 0.26772033 ... 0.17667197 0.27068453 0.10650149]\n",
      "[0.2361994  0.10291795 0.07774567 ... 0.         0.         0.        ]\n",
      "[0.18708973 0.         0.         ... 0.02505458 0.02711489 0.11721929]\n",
      "[0.46550451 0.         0.         ... 0.04818998 0.         0.        ]\n",
      "[0. 0. 0. ... 0. 0. 0.]\n",
      "[0.31793531 0.03168068 0.07625641 ... 0.0170217  0.         0.00812859]\n",
      "[0.22331003 0.         0.         ... 0.0114197  0.00676272 0.00179977]\n",
      "[0.20682221 0.26479082 0.25792182 ... 0.1040802  0.03044526 0.17750096]\n",
      "[0.         0.         0.         ... 0.         0.00418493 0.00187428]\n",
      "[0. 0. 0. ... 0. 0. 0.]\n",
      "[0.01867298 0.16055032 0.02691477 ... 0.12214032 0.28972211 0.28972211]\n"
     ]
    }
   ],
   "source": [
    "def save_hog_vectors(dataset_path, save_path):\n",
    "    # Create an empty dictionary to store HOG vectors with IDs and class labels\n",
    "    hog_dict = {}\n",
    "\n",
    "    # Loop through each class in the dataset\n",
    "    for class_folder in os.listdir(dataset_path):\n",
    "        class_path = os.path.join(dataset_path, class_folder)\n",
    "        if os.path.isdir(class_path):\n",
    "            # Loop through each image in the class\n",
    "            for filename in os.listdir(class_path):\n",
    "                if filename.endswith(\".jpg\") or filename.endswith(\".png\"):\n",
    "                    # Extract the ID from the filename (adjust as needed based on your naming convention)\n",
    "                    image_id = os.path.splitext(filename)[0]\n",
    "\n",
    "                    # Load the image\n",
    "                    image_path = os.path.join(class_path, filename)\n",
    "                    image = io.imread(image_path)\n",
    "\n",
    "                    # Compute HOG vector for the image\n",
    "                    hog_vector = compute_hog(image)\n",
    "                    print(hog_vector)\n",
    "\n",
    "                    # Get the class label from the folder name\n",
    "                    class_label = class_folder\n",
    "\n",
    "                    # Add the HOG vector to the dictionary with the image ID as the key\n",
    "                    # The value is a tuple containing the HOG vector, class label, and image ID\n",
    "                    hog_dict[image_id] = (hog_vector, class_label)\n",
    "\n",
    "    # Save the HOG vectors dictionary to a file\n",
    "    np.save(save_path, hog_dict)\n",
    "\n",
    "  \n",
    "if __name__ == \"__main__\":\n",
    "    # Set the path to your dataset and where you want to save the HOG vectors\n",
    "    dataset_path = \"C:/Users/TERMASS BOUCHRA/Desktop/Project/Flower-classification/flower\"\n",
    "    save_path = \"C:/Users/TERMASS BOUCHRA/Desktop/Project/Flower-classification/hog_vectors_by_class.npy\"\n",
    "\n",
    "    # Call the function to compute and save HOG vectors organized by class\n",
    "    save_hog_vectors(dataset_path, save_path)"
   ]
  },
  {
   "cell_type": "code",
   "execution_count": 4,
   "id": "ae405b4a-165b-45da-aa95-1fb91e261ebf",
   "metadata": {},
   "outputs": [
    {
     "name": "stdout",
     "output_type": "stream",
     "text": [
      "Available Image IDs: ['00a7d512d6', '00f36a3c40', '0a3700189a', '0a4ffd9788', '0ac3d917e3', '0ad0cd94c1', '00d715b92f', '0a3cb9a0f6', '0a6dca3334', '00a2541081', '00f0ef4788', '0a2d5a8ca6', '00b8fd6a70', '00f5b32116', '0a300c9318']\n",
      "Available Image IDs: [(array([0.        , 0.        , 0.        , ..., 0.37574117, 0.30231573,\n",
      "       0.02313982]), 'Lilly'), (array([0.07105758, 0.03197979, 0.        , ..., 0.03199543, 0.        ,\n",
      "       0.        ]), 'Lilly'), (array([0.10338535, 0.13741483, 0.03195637, ..., 0.03710446, 0.03626767,\n",
      "       0.08881326]), 'Lilly'), (array([0.13481956, 0.        , 0.09538191, ..., 0.04309594, 0.        ,\n",
      "       0.3111179 ]), 'Lotus'), (array([0.2513831 , 0.23306467, 0.26772033, ..., 0.17667197, 0.27068453,\n",
      "       0.10650149]), 'Lotus'), (array([0.2361994 , 0.10291795, 0.07774567, ..., 0.        , 0.        ,\n",
      "       0.        ]), 'Lotus'), (array([0.18708973, 0.        , 0.        , ..., 0.02505458, 0.02711489,\n",
      "       0.11721929]), 'Orchid'), (array([0.46550451, 0.        , 0.        , ..., 0.04818998, 0.        ,\n",
      "       0.        ]), 'Orchid'), (array([0., 0., 0., ..., 0., 0., 0.]), 'Orchid'), (array([0.31793531, 0.03168068, 0.07625641, ..., 0.0170217 , 0.        ,\n",
      "       0.00812859]), 'Sunflower'), (array([0.22331003, 0.        , 0.        , ..., 0.0114197 , 0.00676272,\n",
      "       0.00179977]), 'Sunflower'), (array([0.20682221, 0.26479082, 0.25792182, ..., 0.1040802 , 0.03044526,\n",
      "       0.17750096]), 'Sunflower'), (array([0.        , 0.        , 0.        , ..., 0.        , 0.00418493,\n",
      "       0.00187428]), 'Tulip'), (array([0., 0., 0., ..., 0., 0., 0.]), 'Tulip'), (array([0.01867298, 0.16055032, 0.02691477, ..., 0.12214032, 0.28972211,\n",
      "       0.28972211]), 'Tulip')]\n"
     ]
    }
   ],
   "source": [
    "\n",
    "# Load the HOG vectors dictionary from the file\n",
    "loaded_hog_dict = np.load(save_path, allow_pickle=True).item()\n",
    "\n",
    "print(\"Available Image IDs:\", list(loaded_hog_dict.keys()))\n",
    "print(\"Available Image IDs:\", list(loaded_hog_dict.values()))"
   ]
  },
  {
   "cell_type": "code",
   "execution_count": null,
   "id": "7d289de2-e797-4baa-9ca4-01ce613defd3",
   "metadata": {},
   "outputs": [],
   "source": []
  }
 ],
 "metadata": {
  "kernelspec": {
   "display_name": "Python 3 (ipykernel)",
   "language": "python",
   "name": "python3"
  },
  "language_info": {
   "codemirror_mode": {
    "name": "ipython",
    "version": 3
   },
   "file_extension": ".py",
   "mimetype": "text/x-python",
   "name": "python",
   "nbconvert_exporter": "python",
   "pygments_lexer": "ipython3",
   "version": "3.11.4"
  }
 },
 "nbformat": 4,
 "nbformat_minor": 5
}
